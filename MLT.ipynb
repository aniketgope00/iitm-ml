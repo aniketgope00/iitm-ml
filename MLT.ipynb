{
  "nbformat": 4,
  "nbformat_minor": 0,
  "metadata": {
    "colab": {
      "provenance": []
    },
    "kernelspec": {
      "name": "python3",
      "display_name": "Python 3"
    },
    "language_info": {
      "name": "python"
    }
  },
  "cells": [
    {
      "cell_type": "code",
      "execution_count": null,
      "metadata": {
        "id": "Tluz3gUtswqf"
      },
      "outputs": [],
      "source": [
        "#gradient descent algorithm\n",
        "import numpy as np\n",
        "import seaborn as sns\n",
        "def gradient_descent(x,y):\n",
        "  m_curr = b_curr = 0\n",
        "  iterations = 10000\n",
        "  n = len(x)\n",
        "  change_in_m = []\n",
        "  change_in_cost = []\n",
        "  learning_rate = 0.08\n",
        "  for i in range(iterations):\n",
        "    y_predicted = m_curr*x + b_curr\n",
        "    cost = (1/n)*sum(val**2 for val in (y-y_predicted))\n",
        "    change_in_cost.append(cost)\n",
        "    md = (-2/n)*sum(x*(y-y_predicted))\n",
        "    bd = (-2/n)*sum(y-y_predicted)\n",
        "    m_curr = m_curr - learning_rate*md\n",
        "    change_in_m.append(m_curr)\n",
        "    b_curr = b_curr - learning_rate*bd\n",
        "    print(\"m {} b {} cost {} iteration {}\".format(m_curr,b_curr,cost,i))\n",
        "  sns.lineplot(change_in_m,change_in_cost)\n",
        "x = np.array([1,2,3,4,5])\n",
        "y = np.array([5,7,9,11,13])\n",
        "gradient_descent(x,y)"
      ]
    },
    {
      "cell_type": "code",
      "source": [
        "#importing libraries for linear regression\n",
        "import pandas as pd\n",
        "import numpy as np\n",
        "import matplotlib.pyplot as plt\n",
        "from sklearn import linear_model\n"
      ],
      "metadata": {
        "id": "cw6CgBgoNuuG"
      },
      "execution_count": null,
      "outputs": []
    },
    {
      "cell_type": "code",
      "source": [
        "df = pd.read_csv(\"/content/homeprices.csv\")\n",
        "print(df)"
      ],
      "metadata": {
        "colab": {
          "base_uri": "https://localhost:8080/"
        },
        "id": "vIAMsY4tA1Vn",
        "outputId": "a8095dff-acf1-47f2-8233-1c8ca4062f91"
      },
      "execution_count": null,
      "outputs": [
        {
          "output_type": "stream",
          "name": "stdout",
          "text": [
            "   area   price\n",
            "0  2600  550000\n",
            "1  3000  565000\n",
            "2  3200  610000\n",
            "3  3600  680000\n",
            "4  4000  725000\n"
          ]
        }
      ]
    },
    {
      "cell_type": "code",
      "source": [
        "%matplotlib inline\n",
        "plt.scatter(df.area,df.price,color = \"red\", marker = \"+\")\n",
        "plt.xlabel(\"Area\")\n",
        "plt.ylabel(\"Price\")"
      ],
      "metadata": {
        "colab": {
          "base_uri": "https://localhost:8080/",
          "height": 296
        },
        "id": "mtBAZiNJBQ2p",
        "outputId": "b823078d-c4a1-4544-8710-f0bfd22f2856"
      },
      "execution_count": null,
      "outputs": [
        {
          "output_type": "execute_result",
          "data": {
            "text/plain": [
              "Text(0, 0.5, 'Price')"
            ]
          },
          "metadata": {},
          "execution_count": 7
        },
        {
          "output_type": "display_data",
          "data": {
            "text/plain": [
              "<Figure size 432x288 with 1 Axes>"
            ],
            "image/png": "[encoded data removed]"
          },
          "metadata": {
            "needs_background": "light"
          }
        }
      ]
    },
    {
      "cell_type": "code",
      "source": [
        "reg = linear_model.LinearRegression() #creating object\n",
        "reg.fit(df[['area']],df.price) #fitting model"
      ],
      "metadata": {
        "colab": {
          "base_uri": "https://localhost:8080/"
        },
        "id": "ggiNomp9BbHi",
        "outputId": "32a3537d-6708-4bec-bf73-cb281d6a9e7d"
      },
      "execution_count": null,
      "outputs": [
        {
          "output_type": "execute_result",
          "data": {
            "text/plain": [
              "LinearRegression()"
            ]
          },
          "metadata": {},
          "execution_count": 12
        }
      ]
    },
    {
      "cell_type": "code",
      "source": [
        "reg.predict([[3300]]) #predict"
      ],
      "metadata": {
        "colab": {
          "base_uri": "https://localhost:8080/"
        },
        "id": "OhMSzj0ICFAo",
        "outputId": "5168e339-2377-4fef-deca-5a0d7ab6bc2b"
      },
      "execution_count": null,
      "outputs": [
        {
          "output_type": "stream",
          "name": "stderr",
          "text": [
            "/usr/local/lib/python3.7/dist-packages/sklearn/base.py:451: UserWarning: X does not have valid feature names, but LinearRegression was fitted with feature names\n",
            "  \"X does not have valid feature names, but\"\n"
          ]
        },
        {
          "output_type": "execute_result",
          "data": {
            "text/plain": [
              "array([628715.75342466])"
            ]
          },
          "metadata": {},
          "execution_count": 14
        }
      ]
    },
    {
      "cell_type": "code",
      "source": [
        "print(reg.coef_,reg.intercept_) #m,b in y=mx+b\n",
        "reg.predict([[5000]])"
      ],
      "metadata": {
        "colab": {
          "base_uri": "https://localhost:8080/"
        },
        "id": "F64_08SVDIKK",
        "outputId": "8e772751-72b8-432a-e5ed-8916ebc5e45b"
      },
      "execution_count": null,
      "outputs": [
        {
          "output_type": "stream",
          "name": "stdout",
          "text": [
            "[135.78767123] 180616.43835616432\n"
          ]
        },
        {
          "output_type": "stream",
          "name": "stderr",
          "text": [
            "/usr/local/lib/python3.7/dist-packages/sklearn/base.py:451: UserWarning: X does not have valid feature names, but LinearRegression was fitted with feature names\n",
            "  \"X does not have valid feature names, but\"\n"
          ]
        },
        {
          "output_type": "execute_result",
          "data": {
            "text/plain": [
              "array([859554.79452055])"
            ]
          },
          "metadata": {},
          "execution_count": 16
        }
      ]
    },
    {
      "cell_type": "code",
      "source": [
        "%matplotlib inline\n",
        "plt.scatter(df.area,df.price,color = \"red\", marker = \"+\")\n",
        "plt.xlabel(\"Area\")\n",
        "plt.ylabel(\"Price\")\n",
        "plt.plot(df.area,reg.predict(df[['area']]),color=\"blue\")"
      ],
      "metadata": {
        "colab": {
          "base_uri": "https://localhost:8080/",
          "height": 296
        },
        "id": "Bu7K_qo6Dg8A",
        "outputId": "d0228bdb-4aac-4dc6-ec62-8e946288325b"
      },
      "execution_count": null,
      "outputs": [
        {
          "output_type": "execute_result",
          "data": {
            "text/plain": [
              "[<matplotlib.lines.Line2D at 0x7f28bf082bd0>]"
            ]
          },
          "metadata": {},
          "execution_count": 17
        },
        {
          "output_type": "display_data",
          "data": {
            "text/plain": [
              "<Figure size 432x288 with 1 Axes>"
            ],
            "image/png": "[encoded data removed]"
          },
          "metadata": {
            "needs_background": "light"
          }
        }
      ]
    },
    {
      "cell_type": "code",
      "source": [],
      "metadata": {
        "id": "WME4MRBqEXAQ"
      },
      "execution_count": null,
      "outputs": []
    }
  ]
}